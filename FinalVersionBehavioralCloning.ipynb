{
 "cells": [
  {
   "cell_type": "code",
   "execution_count": 1,
   "metadata": {},
   "outputs": [
    {
     "name": "stderr",
     "output_type": "stream",
     "text": [
      "Using TensorFlow backend.\n"
     ]
    }
   ],
   "source": [
    "#Libraries\n",
    "import csv\n",
    "import cv2\n",
    "import numpy as np\n",
    "import matplotlib.pyplot as plt \n",
    "\n",
    "from keras.models import Sequential\n",
    "from keras.layers import Flatten, Dense, Lambda\n",
    "from keras.layers import Convolution2D, Cropping2D\n",
    "from keras.layers.pooling import MaxPooling2D\n"
   ]
  },
  {
   "cell_type": "code",
   "execution_count": 2,
   "metadata": {
    "scrolled": true
   },
   "outputs": [],
   "source": [
    "file_path = 'C:/Users/hhaggan/Desktop/BehaviorCloning/data/data/'\n",
    "\n",
    "def GetData():\n",
    "    lines = []\n",
    "    images = []\n",
    "    center = []\n",
    "    left = []\n",
    "    right = []\n",
    "    measurements = []\n",
    "\n",
    "    with open(file_path + 'driving_log.csv') as csvFile:\n",
    "        reader = csv.reader(csvFile)\n",
    "        next(reader, None)\n",
    "        for line in reader:\n",
    "            steering_center = float(line[3])\n",
    "\n",
    "            # create adjusted steering measurements for the side camera images\n",
    "            correction = 0.2 # this is a parameter to tune\n",
    "            steering_left = steering_center + correction\n",
    "            steering_right = steering_center - correction\n",
    "\n",
    "            measurements.append(float(line[3]))\n",
    "            center.append(file_path + '/' + line[0].strip())\n",
    "            left.append(file_path + '/' + line[1].strip())\n",
    "            right.append(file_path + '/' + line[2].strip())\n",
    "    \n",
    "    images.extend(center)\n",
    "    images.extend(left)\n",
    "    images.extend(right)\n",
    "    \n",
    "    return images, measurements"
   ]
  },
  {
   "cell_type": "code",
   "execution_count": 3,
   "metadata": {},
   "outputs": [],
   "source": [
    "#data augmentation\n",
    "def Augment_Data(images_path, measurements):\n",
    "    augmented_images, augmented_measurements = [], []\n",
    "    for image_path, measurement in zip(images_path, measurements):\n",
    "        image = cv2.imread(image_path)\n",
    "        image = cv2.cvtColor(image,cv2.COLOR_BGR2RGB)\n",
    "        augmented_images.append(cv2.flip(image, 1))\n",
    "        augmented_measurements.append(measurement*-1.0)\n",
    "    return augmented_images, augmented_measurements"
   ]
  },
  {
   "cell_type": "code",
   "execution_count": 4,
   "metadata": {},
   "outputs": [],
   "source": [
    "#building NVIdia model\n",
    "def Nvidia_Model():\n",
    "    model = Sequential()\n",
    "    model.add(Lambda(lambda x: (x / 255.0) - 0.5, input_shape=(160,320,3)))\n",
    "    model.add(Cropping2D(cropping=((70, 25), (0,0))))\n",
    "    model.add(Convolution2D(24,5,5, subsample=(2,2), activation='relu'))\n",
    "    #model.add(MaxPooling2D())\n",
    "    model.add(Convolution2D(36,5,5, subsample=(2,2),activation='relu'))\n",
    "    #model.add(MaxPooling2D())\n",
    "    model.add(Convolution2D(48,5,5, subsample=(2,2), activation='relu'))\n",
    "    model.add(Convolution2D(64,3,3,activation='relu'))\n",
    "    model.add(Convolution2D(64,3,3,activation='relu'))\n",
    "    model.add(Flatten())\n",
    "    model.add(Dense(100))\n",
    "    model.add(Dense(50))\n",
    "    model.add(Dense(10))\n",
    "    model.add(Dense(1))\n",
    "\n",
    "    return model"
   ]
  },
  {
   "cell_type": "code",
   "execution_count": 5,
   "metadata": {},
   "outputs": [],
   "source": [
    "def Train_Nvidia_Model(model, X_train, y_train):\n",
    "    model.compile(loss='mse', optimizer='adam')\n",
    "    model.fit(X_train, y_train, validation_split=0.2, shuffle=True, epochs=5)\n",
    "    model.save('model.h5')"
   ]
  },
  {
   "cell_type": "code",
   "execution_count": 10,
   "metadata": {},
   "outputs": [],
   "source": [
    "def __main__():\n",
    "    print('Getting the data for the images and the steering measurements...')\n",
    "    image_path, measurements = GetData()\n",
    "    print('Augmenting the existing data...')\n",
    "    images, measurements = Augment_Data(image_path, measurements) \n",
    "    \n",
    "    X_train = np.array(images)\n",
    "    y_train = np.array(measurements)\n",
    "    \n",
    "    print('Training a Nvidia Model')\n",
    "    NvidiaModel = Nvidia_Model()\n",
    "    Train_Nvidia_Model(NvidiaModel, X_train, y_train)"
   ]
  },
  {
   "cell_type": "code",
   "execution_count": null,
   "metadata": {},
   "outputs": [
    {
     "name": "stdout",
     "output_type": "stream",
     "text": [
      "Getting the data for the images and the steering measurements...\n",
      "Augmenting the existing data...\n",
      "Training a Nvidia Model\n",
      "WARNING:tensorflow:From C:\\ProgramData\\Anaconda3\\lib\\site-packages\\tensorflow\\python\\ops\\math_ops.py:3066: to_int32 (from tensorflow.python.ops.math_ops) is deprecated and will be removed in a future version.\n",
      "Instructions for updating:\n",
      "Use tf.cast instead.\n"
     ]
    },
    {
     "name": "stderr",
     "output_type": "stream",
     "text": [
      "C:\\ProgramData\\Anaconda3\\lib\\site-packages\\ipykernel_launcher.py:6: UserWarning: Update your `Conv2D` call to the Keras 2 API: `Conv2D(24, (5, 5), activation=\"relu\", strides=(2, 2))`\n",
      "  \n",
      "C:\\ProgramData\\Anaconda3\\lib\\site-packages\\ipykernel_launcher.py:8: UserWarning: Update your `Conv2D` call to the Keras 2 API: `Conv2D(36, (5, 5), activation=\"relu\", strides=(2, 2))`\n",
      "  \n",
      "C:\\ProgramData\\Anaconda3\\lib\\site-packages\\ipykernel_launcher.py:10: UserWarning: Update your `Conv2D` call to the Keras 2 API: `Conv2D(48, (5, 5), activation=\"relu\", strides=(2, 2))`\n",
      "  # Remove the CWD from sys.path while we load stuff.\n",
      "C:\\ProgramData\\Anaconda3\\lib\\site-packages\\ipykernel_launcher.py:11: UserWarning: Update your `Conv2D` call to the Keras 2 API: `Conv2D(64, (3, 3), activation=\"relu\")`\n",
      "  # This is added back by InteractiveShellApp.init_path()\n",
      "C:\\ProgramData\\Anaconda3\\lib\\site-packages\\ipykernel_launcher.py:12: UserWarning: Update your `Conv2D` call to the Keras 2 API: `Conv2D(64, (3, 3), activation=\"relu\")`\n",
      "  if sys.path[0] == '':\n"
     ]
    },
    {
     "name": "stdout",
     "output_type": "stream",
     "text": [
      "Train on 6428 samples, validate on 1608 samples\n",
      "Epoch 1/5\n",
      "6428/6428 [==============================] - 52s 8ms/step - loss: 0.0127 - val_loss: 0.0104\n",
      "Epoch 2/5\n",
      "6428/6428 [==============================] - 51s 8ms/step - loss: 0.0100 - val_loss: 0.0101\n",
      "Epoch 3/5\n",
      "1312/6428 [=====>........................] - ETA: 36s - loss: 0.0093"
     ]
    }
   ],
   "source": [
    "__main__()"
   ]
  },
  {
   "cell_type": "code",
   "execution_count": null,
   "metadata": {},
   "outputs": [],
   "source": []
  }
 ],
 "metadata": {
  "kernelspec": {
   "display_name": "Python 3",
   "language": "python",
   "name": "python3"
  },
  "language_info": {
   "codemirror_mode": {
    "name": "ipython",
    "version": 3
   },
   "file_extension": ".py",
   "mimetype": "text/x-python",
   "name": "python",
   "nbconvert_exporter": "python",
   "pygments_lexer": "ipython3",
   "version": "3.6.8"
  }
 },
 "nbformat": 4,
 "nbformat_minor": 2
}
